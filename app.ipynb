{
 "cells": [
  {
   "cell_type": "markdown",
   "metadata": {},
   "source": [
    "# Project\n",
    "Find an interesting topic and try to find research papers that have published the code of the model that\n",
    "you can download, implement, and run on your machine (try early because sometimes the code does not\n",
    "work due to incompatible components). Once you have a working code, you should think of variations\n",
    "you can apply to the code to try ideas to improve the model or apply it to another dataset.\n",
    "\n",
    "\n",
    "# NLP Text Classification\n",
    "\n",
    "Problem: Depending on the occurrence of specific words, articles can be categorized under different\n",
    "topics which is called topic modeling. Similarly, for response generation, emails can be classified under\n",
    "different categories which can help generate automatic query responses. Previously statistical techniques\n",
    "and machine learning models were used but these cannot capture the context effectively as deep learning\n",
    "models can. More recently deep learning models are used to convert words to numeric vector\n",
    "representations which can capture the context of the word and hence can be used for efficient text\n",
    "categorization.\n",
    "\n",
    "# Features added\n",
    "- Changed from Newsgroup20 dataset to AGNews dataset\n",
    "- Added dropout to model to incorporate for overfitting\n",
    "- Batch normalization for each layer in the network\n",
    "- Added Reduce on platue scheduler to increase efficiency of model training\n",
    "- Added test function to create a confusion matrix to see accuracy of predictions \n",
    "\n",
    "\n",
    "# Potential Datasets:\n",
    "https://www.kaggle.com/datasets/amananandrai/ag-news-classification-dataset\n",
    "https://www.kaggle.com/datasets/tboyle10/medicaltranscriptions\n",
    "\n",
    "\n"
   ]
  },
  {
   "cell_type": "code",
   "execution_count": 27,
   "metadata": {},
   "outputs": [],
   "source": [
    "\n",
    "import numpy as np # Setup + Library installation\n",
    "import tensorflow as tf\n",
    "from tensorflow import keras\n",
    "import os \n",
    "import pathlib\n",
    "from tensorflow.keras.layers import TextVectorization, Embedding\n",
    "from tensorflow.keras import layers\n",
    "import matplotlib.pyplot as plt\n",
    "import pandas as pd\n",
    "import keras\n",
    "from keras import layers\n",
    "from keras.callbacks import ReduceLROnPlateau\n",
    "from sklearn.metrics import confusion_matrix\n",
    "import matplotlib.pyplot as plt\n",
    "import seaborn as sns"
   ]
  },
  {
   "cell_type": "code",
   "execution_count": 17,
   "metadata": {},
   "outputs": [
    {
     "name": "stdout",
     "output_type": "stream",
     "text": [
      "AG News Train Data:\n",
      "   Class Index                                              Title  \\\n",
      "0            3  Wall St. Bears Claw Back Into the Black (Reuters)   \n",
      "1            3  Carlyle Looks Toward Commercial Aerospace (Reu...   \n",
      "2            3    Oil and Economy Cloud Stocks' Outlook (Reuters)   \n",
      "3            3  Iraq Halts Oil Exports from Main Southern Pipe...   \n",
      "4            3  Oil prices soar to all-time record, posing new...   \n",
      "\n",
      "                                         Description  \n",
      "0  Reuters - Short-sellers, Wall Street's dwindli...  \n",
      "1  Reuters - Private investment firm Carlyle Grou...  \n",
      "2  Reuters - Soaring crude prices plus worries\\ab...  \n",
      "3  Reuters - Authorities have halted oil export\\f...  \n",
      "4  AFP - Tearaway world oil prices, toppling reco...  \n",
      "AG News Test Data:\n",
      "   Class Index                                              Title  \\\n",
      "0            3                  Fears for T N pension after talks   \n",
      "1            4  The Race is On: Second Private Team Sets Launc...   \n",
      "2            4      Ky. Company Wins Grant to Study Peptides (AP)   \n",
      "3            4      Prediction Unit Helps Forecast Wildfires (AP)   \n",
      "4            4        Calif. Aims to Limit Farm-Related Smog (AP)   \n",
      "\n",
      "                                         Description  \n",
      "0  Unions representing workers at Turner   Newall...  \n",
      "1  SPACE.com - TORONTO, Canada -- A second\\team o...  \n",
      "2  AP - A company founded by a chemistry research...  \n",
      "3  AP - It's barely dawn when Mike Fitzpatrick st...  \n",
      "4  AP - Southern California's smog-fighting agenc...  \n"
     ]
    }
   ],
   "source": [
    "\n",
    "# Download the AG News data and look at the data\n",
    "ag_news_path = \"./datasets/\"\n",
    "train_path = os.path.join(ag_news_path, \"train.csv\")\n",
    "test_path = os.path.join(ag_news_path, \"test.csv\")\n",
    "\n",
    "# Load AG News data\n",
    "train_df = pd.read_csv(train_path)\n",
    "test_df = pd.read_csv(test_path)\n",
    "\n",
    "# Display the first few rows of the training dataset\n",
    "print(\"AG News Train Data:\")\n",
    "print(train_df.head())\n",
    "\n",
    "# Display the first few rows of the testing dataset\n",
    "print(\"AG News Test Data:\")\n",
    "print(test_df.head())"
   ]
  },
  {
   "cell_type": "code",
   "execution_count": 18,
   "metadata": {},
   "outputs": [
    {
     "name": "stdout",
     "output_type": "stream",
     "text": [
      "Number of training samples: 120000\n",
      "Number of testing samples: 7600\n"
     ]
    }
   ],
   "source": [
    "# Combine 'Title' and 'Description' columns\n",
    "train_samples = (train_df['Title'] + ' ' + train_df['Description']).str.replace('\\\\\"', '\"').tolist()\n",
    "test_samples = (test_df['Title'] + ' ' + test_df['Description']).str.replace('\\\\\"', '\"').tolist()\n",
    "\n",
    "# Use 'Class Index' as the label column\n",
    "train_labels = train_df['Class Index'].tolist()\n",
    "test_labels = test_df['Class Index'].tolist()\n",
    "print(\"Number of training samples:\", len(train_samples))\n",
    "print(\"Number of testing samples:\", len(test_samples))"
   ]
  },
  {
   "cell_type": "code",
   "execution_count": 19,
   "metadata": {},
   "outputs": [
    {
     "name": "stdout",
     "output_type": "stream",
     "text": [
      "['', '[UNK]', 'the', 'to', 'a']\n",
      "[   2 4887 4651    8    2 9824]\n"
     ]
    },
    {
     "data": {
      "text/plain": [
       "[2, 4887, 4651, 8, 2, 9824]"
      ]
     },
     "execution_count": 19,
     "metadata": {},
     "output_type": "execute_result"
    }
   ],
   "source": [
    "# Define class names\n",
    "class_names = ['World', 'Sports', 'Business', 'Sci/Tech']\n",
    "\n",
    "# Subtract 1 from label values to make them start from 0\n",
    "train_labels = np.array(train_labels) - 1\n",
    "test_labels = np.array(test_labels) - 1\n",
    "\n",
    "# Shuffle and split data into training and validation\n",
    "seed = 42\n",
    "np.random.seed(seed)\n",
    "rng = np.random.RandomState(seed)\n",
    "train_indices = np.arange(len(train_samples))\n",
    "rng.shuffle(train_indices)\n",
    "\n",
    "# Extract a training & validation split\n",
    "validation_split = 0.2\n",
    "num_validation_samples = int(validation_split * len(train_samples))\n",
    "\n",
    "train_samples = train_samples[:-num_validation_samples]\n",
    "val_samples = train_samples[-num_validation_samples:]\n",
    "train_labels = train_labels[:-num_validation_samples]\n",
    "val_labels = train_labels[-num_validation_samples:]\n",
    "\n",
    "# Create a vocabulary index\n",
    "vectorizer = TextVectorization(max_tokens=20000, output_sequence_length=200)\n",
    "text_ds = tf.data.Dataset.from_tensor_slices(train_samples).batch(128)\n",
    "vectorizer.adapt(text_ds)\n",
    "\n",
    "# Test to retrieve computed vocabulary top 5 words\n",
    "print(vectorizer.get_vocabulary()[:5])\n",
    "\n",
    "# Vectorize test sentence\n",
    "output = vectorizer([\"the cat sat on the mat\"])\n",
    "print(output.numpy()[0, :6])\n",
    "\n",
    "# Dict mapping words to their indices\n",
    "voc = vectorizer.get_vocabulary()\n",
    "word_index = dict(zip(voc, range(len(voc))))\n",
    "\n",
    "test = [\"the\", \"cat\", \"sat\", \"on\", \"the\", \"mat\"]\n",
    "[word_index[w] for w in test]"
   ]
  },
  {
   "cell_type": "markdown",
   "metadata": {},
   "source": [
    "## Run the following in terminal\n",
    "### Download the GloVe zip file\n",
    "Invoke-WebRequest -Uri http://nlp.stanford.edu/data/glove.6B.zip -OutFile glove.6B.zip\n",
    "\n",
    "### Unzip the file\n",
    "Expand-Archive -Path .\\glove.6B.zip -DestinationPath .\\\n"
   ]
  },
  {
   "cell_type": "code",
   "execution_count": 20,
   "metadata": {},
   "outputs": [
    {
     "name": "stdout",
     "output_type": "stream",
     "text": [
      "Found 400000 word vectors.\n"
     ]
    }
   ],
   "source": [
    "# Construct the full path to the GloVe file\n",
    "path_to_glove_file = os.path.join(\n",
    "    os.path.expanduser(\"~\"), \"C:/Users/wadeg/OneDrive/Desktop/FinalProject/glove.6B.300d.txt\"\n",
    ")\n",
    "\n",
    "embeddings_index = {}\n",
    "with open(path_to_glove_file, encoding='utf-8') as f: # UTF-8 for reading txt file\n",
    "    for line in f:\n",
    "        word, coefs = line.split(maxsplit=1)\n",
    "        coefs = np.fromstring(coefs, \"f\", sep=\" \")\n",
    "        embeddings_index[word] = coefs\n",
    "        \n",
    "\n",
    "print(\"Found %s word vectors.\" % len(embeddings_index))\n"
   ]
  },
  {
   "cell_type": "code",
   "execution_count": 21,
   "metadata": {},
   "outputs": [
    {
     "name": "stdout",
     "output_type": "stream",
     "text": [
      "Converted 18668 words (1332 misses)\n"
     ]
    }
   ],
   "source": [
    "# Prepare embedding matrix\n",
    "num_tokens = len(voc) + 2\n",
    "embedding_dim = 300\n",
    "hits = 0\n",
    "misses = 0\n",
    "\n",
    "# Prepare embedding matrix\n",
    "embedding_matrix = np.zeros((num_tokens, embedding_dim))\n",
    "oov_vector = np.random.rand(embedding_dim)  # Random initialization for OOV words\n",
    "\n",
    "for word, i in word_index.items():\n",
    "    # Ensure consistent lowercase representation\n",
    "    word_lower = word.lower()\n",
    "    \n",
    "    embedding_vector = embeddings_index.get(word_lower)\n",
    "    if embedding_vector is not None:\n",
    "        embedding_matrix[i] = embedding_vector\n",
    "        hits += 1\n",
    "    else:\n",
    "        embedding_matrix[i] = oov_vector\n",
    "        misses += 1\n",
    "\n",
    "print(\"Converted %d words (%d misses)\" % (hits, misses))\n",
    "\n",
    "# Load the pre-trained word embeddings matrix into an embedding layer\n",
    "embedding_layer = Embedding(\n",
    "    num_tokens,\n",
    "    embedding_dim,\n",
    "    embeddings_initializer=keras.initializers.Constant(embedding_matrix),\n",
    "    trainable=False,\n",
    ")\n"
   ]
  },
  {
   "cell_type": "code",
   "execution_count": 22,
   "metadata": {},
   "outputs": [
    {
     "name": "stdout",
     "output_type": "stream",
     "text": [
      "Model: \"model_1\"\n",
      "_________________________________________________________________\n",
      " Layer (type)                Output Shape              Param #   \n",
      "=================================================================\n",
      " input_2 (InputLayer)        [(None, None)]            0         \n",
      "                                                                 \n",
      " embedding_1 (Embedding)     (None, None, 300)         6000600   \n",
      "                                                                 \n",
      " conv1d_3 (Conv1D)           (None, None, 128)         115328    \n",
      "                                                                 \n",
      " batch_normalization_3 (Bat  (None, None, 128)         512       \n",
      " chNormalization)                                                \n",
      "                                                                 \n",
      " max_pooling1d_2 (MaxPoolin  (None, None, 128)         0         \n",
      " g1D)                                                            \n",
      "                                                                 \n",
      " conv1d_4 (Conv1D)           (None, None, 128)         49280     \n",
      "                                                                 \n",
      " batch_normalization_4 (Bat  (None, None, 128)         512       \n",
      " chNormalization)                                                \n",
      "                                                                 \n",
      " max_pooling1d_3 (MaxPoolin  (None, None, 128)         0         \n",
      " g1D)                                                            \n",
      "                                                                 \n",
      " conv1d_5 (Conv1D)           (None, None, 128)         49280     \n",
      "                                                                 \n",
      " batch_normalization_5 (Bat  (None, None, 128)         512       \n",
      " chNormalization)                                                \n",
      "                                                                 \n",
      " global_max_pooling1d_1 (Gl  (None, 128)               0         \n",
      " obalMaxPooling1D)                                               \n",
      "                                                                 \n",
      " dense_2 (Dense)             (None, 128)               16512     \n",
      "                                                                 \n",
      " dropout_1 (Dropout)         (None, 128)               0         \n",
      "                                                                 \n",
      " dense_3 (Dense)             (None, 4)                 516       \n",
      "                                                                 \n",
      "=================================================================\n",
      "Total params: 6233052 (23.78 MB)\n",
      "Trainable params: 231684 (905.02 KB)\n",
      "Non-trainable params: 6001368 (22.89 MB)\n",
      "_________________________________________________________________\n"
     ]
    }
   ],
   "source": [
    "# Input layer for 1D sequences\n",
    "sequences_input = keras.Input(shape=(None,), dtype=\"int32\")\n",
    "embedded_sequences = embedding_layer(sequences_input)\n",
    "\n",
    "# 1D Convolutional layers with Batch Normalization and GlobalMaxPooling1D\n",
    "x = layers.Conv1D(128, 3, activation=\"relu\")(embedded_sequences)\n",
    "x = layers.BatchNormalization()(x)\n",
    "x = layers.MaxPooling1D(2)(x)\n",
    "\n",
    "x = layers.Conv1D(128, 3, activation=\"relu\")(x)\n",
    "x = layers.BatchNormalization()(x)\n",
    "x = layers.MaxPooling1D(2)(x)\n",
    "\n",
    "x = layers.Conv1D(128, 3, activation=\"relu\")(x)\n",
    "x = layers.BatchNormalization()(x)\n",
    "x = layers.GlobalMaxPooling1D()(x)\n",
    "\n",
    "# Dense layer with ReLU activation and Dropout\n",
    "x = layers.Dense(128, activation=\"relu\")(x)\n",
    "x = layers.Dropout(0.5)(x)\n",
    "\n",
    "# Output layer\n",
    "preds = layers.Dense(len(class_names), activation=\"softmax\")(x)\n",
    "\n",
    "# Model definition\n",
    "model = keras.Model(sequences_input, preds)\n",
    "model.summary()\n"
   ]
  },
  {
   "cell_type": "markdown",
   "metadata": {},
   "source": [
    "# Train the model\n",
    "First, convert our list-of-strings data to NumPy arrays of integer indices. The arrays are right-padded."
   ]
  },
  {
   "cell_type": "code",
   "execution_count": 23,
   "metadata": {},
   "outputs": [],
   "source": [
    "x_train = vectorizer(np.array([[s] for s in train_samples])).numpy()\n",
    "x_val = vectorizer(np.array([[s] for s in val_samples])).numpy()\n",
    "\n",
    "y_train = np.array(train_labels)\n",
    "y_val = np.array(val_labels)"
   ]
  },
  {
   "cell_type": "markdown",
   "metadata": {},
   "source": [
    "We use categorical crossentropy as our loss since we're doing softmax classification. Moreover, we use 'sparse_categorical_crossentropy' since our labels are integers."
   ]
  },
  {
   "cell_type": "code",
   "execution_count": 28,
   "metadata": {},
   "outputs": [
    {
     "name": "stdout",
     "output_type": "stream",
     "text": [
      "Epoch 1/10\n",
      "375/375 [==============================] - 166s 438ms/step - loss: 0.3555 - acc: 0.8854 - val_loss: 0.2457 - val_acc: 0.9173 - lr: 0.0010\n",
      "Epoch 2/10\n",
      "375/375 [==============================] - 164s 437ms/step - loss: 0.2917 - acc: 0.9041 - val_loss: 0.2040 - val_acc: 0.9305 - lr: 0.0010\n",
      "Epoch 3/10\n",
      "375/375 [==============================] - 164s 437ms/step - loss: 0.2568 - acc: 0.9131 - val_loss: 0.1939 - val_acc: 0.9280 - lr: 0.0010\n",
      "Epoch 4/10\n",
      "375/375 [==============================] - 164s 437ms/step - loss: 0.2306 - acc: 0.9204 - val_loss: 0.1753 - val_acc: 0.9404 - lr: 0.0010\n",
      "Epoch 5/10\n",
      "375/375 [==============================] - 164s 436ms/step - loss: 0.2035 - acc: 0.9280 - val_loss: 0.1612 - val_acc: 0.9401 - lr: 0.0010\n",
      "Epoch 6/10\n",
      "375/375 [==============================] - 164s 438ms/step - loss: 0.1768 - acc: 0.9369 - val_loss: 0.1391 - val_acc: 0.9508 - lr: 0.0010\n",
      "Epoch 7/10\n",
      "375/375 [==============================] - 164s 438ms/step - loss: 0.1552 - acc: 0.9443 - val_loss: 0.1094 - val_acc: 0.9555 - lr: 0.0010\n",
      "Epoch 8/10\n",
      "375/375 [==============================] - 164s 437ms/step - loss: 0.1335 - acc: 0.9503 - val_loss: 0.0749 - val_acc: 0.9705 - lr: 0.0010\n",
      "Epoch 9/10\n",
      "375/375 [==============================] - 164s 437ms/step - loss: 0.1170 - acc: 0.9558 - val_loss: 0.0740 - val_acc: 0.9736 - lr: 0.0010\n",
      "Epoch 10/10\n",
      "375/375 [==============================] - 164s 438ms/step - loss: 0.1027 - acc: 0.9614 - val_loss: 0.0749 - val_acc: 0.9728 - lr: 0.0010\n"
     ]
    },
    {
     "data": {
      "text/plain": [
       "<keras.src.callbacks.History at 0x1f094141890>"
      ]
     },
     "execution_count": 28,
     "metadata": {},
     "output_type": "execute_result"
    }
   ],
   "source": [
    "# Compile the model with a specified learning rate\n",
    "initial_learning_rate = 0.001  # You can adjust this value\n",
    "optimizer = keras.optimizers.Adam(learning_rate=initial_learning_rate)\n",
    "model.compile(loss=\"sparse_categorical_crossentropy\", optimizer=optimizer, metrics=[\"acc\"])\n",
    "\n",
    "# Define a learning rate scheduler\n",
    "reduce_lr = ReduceLROnPlateau(monitor='val_loss', factor=0.2, patience=3, min_lr=0.0001)\n",
    "\n",
    "# Train the model with the learning rate scheduler\n",
    "model.fit(x_train, y_train, batch_size=256, epochs=10, validation_data=(x_val, y_val), callbacks=[reduce_lr])"
   ]
  },
  {
   "cell_type": "code",
   "execution_count": 37,
   "metadata": {},
   "outputs": [
    {
     "name": "stdout",
     "output_type": "stream",
     "text": [
      "238/238 [==============================] - 5s 20ms/step - loss: 0.4833 - acc: 0.8954\n",
      "Test accuracy: 0.8953947424888611\n",
      "238/238 [==============================] - 5s 19ms/step\n"
     ]
    },
    {
     "data": {
      "image/png": "[encoded data removed]",
      "text/plain": [
       "<Figure size 1000x800 with 2 Axes>"
      ]
     },
     "metadata": {},
     "output_type": "display_data"
    }
   ],
   "source": [
    "# Split test data into x_test and y_test\n",
    "x_test = (test_df['Title'] + ' ' + test_df['Description']).str.replace('\\\\\"', '\"').tolist()\n",
    "y_test = np.array(test_df['Class Index'].tolist()) - 1  # Subtract 1 from label values\n",
    "\n",
    "# Vectorize test data using the same vectorizer\n",
    "x_test = vectorizer(x_test)\n",
    "\n",
    "# Evaluate the model on the test set\n",
    "test_loss, test_acc = model.evaluate(x_test, y_test)\n",
    "\n",
    "print(\"Test accuracy:\", test_acc)\n",
    "\n",
    "# Make predictions on the test set\n",
    "y_pred = model.predict(x_test)\n",
    "# Assuming y_test and y_pred are in the correct format\n",
    "confusion = confusion_matrix(y_test, np.argmax(y_pred, axis=1))\n",
    "\n",
    "# Plot the confusion matrix using seaborn library\n",
    "plt.figure(figsize=(10, 8))\n",
    "sns.heatmap(confusion, annot=True, fmt='d', cmap='Blues', xticklabels=class_names, yticklabels=class_names)\n",
    "plt.xlabel('Predicted')\n",
    "plt.ylabel('True')\n",
    "plt.title('Confusion Matrix - Test Set')\n",
    "plt.savefig('confusion_matrix.png') \n",
    "plt.show()\n",
    "\n"
   ]
  },
  {
   "cell_type": "code",
   "execution_count": 40,
   "metadata": {},
   "outputs": [
    {
     "name": "stdout",
     "output_type": "stream",
     "text": [
      "1/1 [==============================] - 0s 246ms/step\n",
      "Sports\n"
     ]
    }
   ],
   "source": [
    "# Define a Keras Input layer for strings with shape (1,)\n",
    "string_input = keras.Input(shape=(1,), dtype=\"string\")\n",
    "\n",
    "# Apply the vectorizer layer to convert input strings to sequences of indices\n",
    "x = vectorizer(string_input)\n",
    "\n",
    "# Make predictions using the trained model on the vectorized input\n",
    "preds = model(x)\n",
    "\n",
    "# Create an end-to-end model that takes a string as input and produces predictions\n",
    "end_to_end_model = keras.Model(string_input, preds)\n",
    "\n",
    "# Input a list containing one string to get the predicted probabilities for each class\n",
    "probabilities = end_to_end_model.predict(\n",
    "    [[\"New AI model made by microsoft\"]]\n",
    ")\n",
    "\n",
    "# Retrieve the class name with the highest predicted probability\n",
    "predicted_class = class_names[np.argmax(probabilities[0])]\n",
    "\n",
    "# Print the predicted class name\n",
    "print(predicted_class)\n"
   ]
  },
  {
   "cell_type": "markdown",
   "metadata": {},
   "source": [
    "# References \n",
    "Base Code:\n",
    "https://keras.io/examples/nlp/pretrained_word_embeddings/\n",
    "\n",
    "Research: \n",
    "https://www.ncbi.nlm.nih.gov/pmc/articles/PMC7157505/\n"
   ]
  }
 ],
 "metadata": {
  "kernelspec": {
   "display_name": ".venv",
   "language": "python",
   "name": "python3"
  },
  "language_info": {
   "codemirror_mode": {
    "name": "ipython",
    "version": 3
   },
   "file_extension": ".py",
   "mimetype": "text/x-python",
   "name": "python",
   "nbconvert_exporter": "python",
   "pygments_lexer": "ipython3",
   "version": "3.11.5"
  }
 },
 "nbformat": 4,
 "nbformat_minor": 2
}
